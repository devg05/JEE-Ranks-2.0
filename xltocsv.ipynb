{
 "cells": [
  {
   "cell_type": "code",
   "execution_count": 5,
   "metadata": {},
   "outputs": [
    {
     "name": "stdout",
     "output_type": "stream",
     "text": [
      "Saved GEN_combined.csv\n",
      "Saved GEN-EWS_combined.csv\n",
      "Saved OBC-NCL_combined.csv\n",
      "Saved SC_combined.csv\n",
      "Saved ST_combined.csv\n"
     ]
    }
   ],
   "source": [
    "import pandas as pd\n",
    "\n",
    "# Load the Excel file\n",
    "file_path = '2023.xlsx'\n",
    "xls = pd.ExcelFile(file_path)\n",
    "\n",
    "# Define the sheet ranges for each category\n",
    "categories = {\n",
    "    'GEN': range(0, 61),        # 4 to 64\n",
    "    'GEN-EWS': range(61, 77),   # 65 to 80\n",
    "    'OBC-NCL': range(77, 118),  # 81 to 121\n",
    "    'SC': range(118, 141),      # 122 to 144\n",
    "    'ST': range(141, 153)       # 145 to 156\n",
    "}\n",
    "\n",
    "# Function to combine sheets in the given range\n",
    "def combine_sheets(sheet_range):\n",
    "    combined_df = pd.concat([pd.read_excel(xls, sheet_name=xls.sheet_names[i]) for i in sheet_range])\n",
    "    return combined_df\n",
    "\n",
    "# Combine and save each category\n",
    "for category, sheet_range in categories.items():\n",
    "    combined_df = combine_sheets(sheet_range)\n",
    "    combined_df.to_csv(f'{category}_combined.csv', index=False)\n",
    "    print(f'Saved {category}_combined.csv')\n"
   ]
  },
  {
   "cell_type": "code",
   "execution_count": 1,
   "metadata": {},
   "outputs": [
    {
     "name": "stdout",
     "output_type": "stream",
     "text": [
      "Removed rows containing \"AdvRollNo\" and saved to 2023_f.csv\n"
     ]
    }
   ],
   "source": [
    "import pandas as pd\n",
    "\n",
    "# Function to remove rows containing a specific string\n",
    "def remove_rows_with_string(file_path, string_to_remove, output_file_path):\n",
    "    # Read the CSV file\n",
    "    df = pd.read_csv(file_path)\n",
    "    \n",
    "    # Filter rows that do not contain the specified string in any column\n",
    "    mask = df.apply(lambda row: row.astype(str).str.contains(string_to_remove).any(), axis=1)\n",
    "    filtered_df = df[~mask]\n",
    "    \n",
    "    # Write the filtered DataFrame to a new CSV file\n",
    "    filtered_df.to_csv(output_file_path, index=False)\n",
    "    print(f'Removed rows containing \"{string_to_remove}\" and saved to {output_file_path}')\n",
    "\n",
    "# Example usage\n",
    "input_file_path = '2023.csv'\n",
    "output_file_path = '2023_f.csv'\n",
    "string_to_remove = 'AdvRollNo'\n",
    "\n",
    "remove_rows_with_string(input_file_path, string_to_remove, output_file_path)\n"
   ]
  }
 ],
 "metadata": {
  "kernelspec": {
   "display_name": "Python 3",
   "language": "python",
   "name": "python3"
  },
  "language_info": {
   "codemirror_mode": {
    "name": "ipython",
    "version": 3
   },
   "file_extension": ".py",
   "mimetype": "text/x-python",
   "name": "python",
   "nbconvert_exporter": "python",
   "pygments_lexer": "ipython3",
   "version": "3.9.13"
  }
 },
 "nbformat": 4,
 "nbformat_minor": 2
}
