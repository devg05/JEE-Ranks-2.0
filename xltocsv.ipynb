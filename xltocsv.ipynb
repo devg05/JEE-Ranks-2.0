{
 "cells": [
  {
   "cell_type": "code",
   "execution_count": 6,
   "metadata": {},
   "outputs": [
    {
     "name": "stdout",
     "output_type": "stream",
     "text": [
      "Saved GEN_combined.csv\n",
      "Saved GEN-EWS_combined.csv\n",
      "Saved OBC-NCL_combined.csv\n",
      "Saved SC_combined.csv\n",
      "Saved ST_combined.csv\n"
     ]
    }
   ],
   "source": [
    "import pandas as pd\n",
    "\n",
    "# Load the Excel file\n",
    "file_path = '2020.xlsx'\n",
    "xls = pd.ExcelFile(file_path)\n",
    "\n",
    "# Define the sheet ranges for each category\n",
    "\n",
    "# 2023:\n",
    "# categories = {\n",
    "#     'GEN': range(0, 61),        # 4 to 64\n",
    "#     'GEN-EWS': range(61, 77),   # 65 to 80\n",
    "#     'OBC-NCL': range(77, 118),  # 81 to 121\n",
    "#     'SC': range(118, 141),      # 122 to 144\n",
    "#     'ST': range(141, 153)       # 145 to 156\n",
    "# }\n",
    "\n",
    "# 2022:\n",
    "# categories = {\n",
    "#     'GEN': range(0, 53),        \n",
    "#     'GEN-EWS': range(53, 66),   \n",
    "#     'OBC-NCL': range(66, 101), \n",
    "#     'SC': range(101, 121),    \n",
    "#     'ST': range(121, 131)      \n",
    "# }\n",
    "\n",
    "#2020:\n",
    "categories = {\n",
    "    'GEN': range(0, 66),        \n",
    "    'GEN-EWS': range(66, 82),   \n",
    "    'OBC-NCL': range(82, 126), \n",
    "    'SC': range(126, 151),    \n",
    "    'ST': range(151, 170)      \n",
    "}\n",
    "\n",
    "# Function to combine sheets in the given range\n",
    "def combine_sheets(sheet_range):\n",
    "    combined_df = pd.concat([pd.read_excel(xls, sheet_name=xls.sheet_names[i]) for i in sheet_range])\n",
    "    return combined_df\n",
    "\n",
    "# Combine and save each category\n",
    "for category, sheet_range in categories.items():\n",
    "    combined_df = combine_sheets(sheet_range)\n",
    "    combined_df.to_csv(f'{category}_combined.csv', index=False)\n",
    "    print(f'Saved {category}_combined.csv')\n"
   ]
  },
  {
   "cell_type": "code",
   "execution_count": 7,
   "metadata": {},
   "outputs": [
    {
     "name": "stdout",
     "output_type": "stream",
     "text": [
      "Removed rows containing \"JEEAdvRollNo\" and saved to GEN_f.csv\n",
      "Removed rows containing \"JEEAdvRollNo\" and saved to GEN-EWS_f.csv\n",
      "Removed rows containing \"JEEAdvRollNo\" and saved to OBC_f.csv\n",
      "Removed rows containing \"JEEAdvRollNo\" and saved to SC_f.csv\n",
      "Removed rows containing \"JEEAdvRollNo\" and saved to ST_f.csv\n"
     ]
    }
   ],
   "source": [
    "import pandas as pd\n",
    "\n",
    "# Function to remove rows containing a specific string\n",
    "def remove_rows_with_string(file_path, string_to_remove, output_file_path):\n",
    "    # Read the CSV file\n",
    "    df = pd.read_csv(file_path)\n",
    "    \n",
    "    # Filter rows that do not contain the specified string in any column\n",
    "    mask = df.apply(lambda row: row.astype(str).str.contains(string_to_remove).any(), axis=1)\n",
    "    filtered_df = df[~mask]\n",
    "    \n",
    "    # Write the filtered DataFrame to a new CSV file\n",
    "    filtered_df.to_csv(output_file_path, index=False)\n",
    "    print(f'Removed rows containing \"{string_to_remove}\" and saved to {output_file_path}')\n",
    "\n",
    "# List of input and output file paths\n",
    "input_file_paths = ['GEN_combined.csv', 'GEN-EWS_combined.csv', 'OBC-NCL_combined.csv', 'SC_combined.csv', 'ST_combined.csv']\n",
    "output_file_paths = ['GEN_f.csv', 'GEN-EWS_f.csv', 'OBC_f.csv', 'SC_f.csv', 'ST_f.csv']\n",
    "string_to_remove = 'JEEAdvRollNo'\n",
    "\n",
    "# Loop through each file and apply the function\n",
    "for input_file_path, output_file_path in zip(input_file_paths, output_file_paths):\n",
    "    remove_rows_with_string(input_file_path, string_to_remove, output_file_path)"
   ]
  },
  {
   "cell_type": "code",
   "execution_count": 2,
   "metadata": {},
   "outputs": [],
   "source": [
    "import csv\n",
    "import json\n",
    "\n",
    "def csv_to_json(csv_file, json_file):\n",
    "    # Open the CSV file and load data into a dictionary\n",
    "    with open(csv_file, 'r') as csv_file:\n",
    "        csv_reader = csv.DictReader(csv_file)\n",
    "        data = [row for row in csv_reader]\n",
    "\n",
    "    # Write the data to a JSON file\n",
    "    with open(json_file, 'w') as json_file:\n",
    "        json.dump(data, json_file, indent=4)\n",
    "\n",
    "# Example usage\n",
    "input_file_paths = ['GEN_f.csv', 'GEN-EWS_f.csv', 'OBC_f.csv', 'SC_f.csv', 'ST_f.csv']\n",
    "output_file_paths = ['GEN_f.json', 'GEN-EWS_f.json', 'OBC_f.json', 'SC_f.json', 'ST_f.json']\n",
    "\n",
    "for i in range(len(input_file_paths)):\n",
    "    csv_to_json(input_file_paths[i],output_file_paths[i])\n"
   ]
  }
 ],
 "metadata": {
  "kernelspec": {
   "display_name": "Python 3",
   "language": "python",
   "name": "python3"
  },
  "language_info": {
   "codemirror_mode": {
    "name": "ipython",
    "version": 3
   },
   "file_extension": ".py",
   "mimetype": "text/x-python",
   "name": "python",
   "nbconvert_exporter": "python",
   "pygments_lexer": "ipython3",
   "version": "3.9.13"
  }
 },
 "nbformat": 4,
 "nbformat_minor": 2
}
